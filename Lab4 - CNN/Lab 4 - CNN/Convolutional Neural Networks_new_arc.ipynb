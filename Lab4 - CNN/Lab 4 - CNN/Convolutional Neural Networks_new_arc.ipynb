{
 "cells": [
  {
   "cell_type": "markdown",
   "metadata": {},
   "source": [
    "## Students Information\n",
    "\n",
    "Please enter the names and IDs of the two students below:\n",
    "\n",
    "1. **Name**: [Norhan Reda Abdelwahed Ahmed]  \n",
    "   **ID**: `9203639` \n",
    "\n",
    "2. **Name**: [Hoda Gamal Hamouda Ismail]  \n",
    "   **ID**: `9203673` \n",
    "   \n",
    "3. **Name**: [Samaa Hazem Mohamed Abdellatif]  \n",
    "   **ID**: `9202660` \n",
    "\n",
    "4. **Name**: [Shaza Mohamed AbdelRahman]  \n",
    "   **ID**: `9161007`       \n",
    "   \n"
   ]
  },
  {
   "cell_type": "markdown",
   "metadata": {},
   "source": [
    "## Students Instructions\n",
    "\n",
    "This is your fourth graded lab assignment, as you put the work you have studied in the lectures in action, please take this opportunity to enhance your understanding of the concepts and hone your skills. As you work on your assignment, please keep the following instructions in mind:\n",
    "\n",
    "- Clearly state your personal information where indicated.\n",
    "- Be ready with your work before the time of the next discussion slot in the schedule.\n",
    "- Plagiarism will be met with penalties, refrain from copying any answers to make the most out of the assignment. If any signs of plagiarism are detected, actions will be taken.\n",
    "- It is acceptable to share the workload of the assignment bearing the discussion in mind.\n",
    "- Feel free to [reach out](mailto:cmpsy27@gmail.com) if there were any ambiguities or post on the classroom."
   ]
  },
  {
   "cell_type": "markdown",
   "metadata": {},
   "source": [
    "## Submission Instructions\n",
    "\n",
    "To ensure a smooth evaluation process, please follow these steps for submitting your work:\n",
    "\n",
    "1. **Prepare Your Submission:** Alongside your main notebook, include any additional files that are necessary for running the notebook successfully. This might include data files, images, or supplementary scripts.\n",
    "\n",
    "2. **Rename Your Files:** Before submission, please rename your notebook to reflect the IDs of the two students working on this project. The format should be `ID1_ID2`, where `ID1` and `ID2` are the student IDs. For example, if the student IDs are `9123456` and `9876543`, then your notebook should be named `9123456_9876543.ipynb`.\n",
    "\n",
    "3. **Check for Completeness:** Ensure that all required tasks are completed and that the notebook runs from start to finish without errors. This step is crucial for a smooth evaluation.\n",
    "\n",
    "4. **Submit Your Work:** Once everything is in order, submit your notebook and any additional files via the designated submission link on Google Classroom **(code: 2yj6e24)**. Make sure you meet the submission deadline to avoid any late penalties.\n",
    "5. Please, note that the same student should submit the assignments for the pair throughout the semester.\n",
    "\n",
    "By following these instructions carefully, you help us in evaluating your work efficiently and fairly **and any failure to adhere to these guidelines can affect your grades**. If you encounter any difficulties or have questions about the submission process, please reach out as soon as possible.\n",
    "\n",
    "We look forward to seeing your completed projects and wish you the best of luck!\n"
   ]
  },
  {
   "cell_type": "markdown",
   "metadata": {},
   "source": [
    "## Installation Instructions\n",
    "\n",
    "In this lab assignment, we require additional Python libraries for machine learning (ML) and deep learning (DL) algorithms and frameworks. To fulfill these requirements, we need to install Pytorch. \n",
    "1. Install Pytorch \\\n",
    "PyTorch is a versatile and powerful machine learning library for Python, known for its flexibility and ease of use in research and production. It supports various deep learning operations and models, including convolutional and recurrent neural networks. For Windows users, the installation also requires ensuring that CUDA, provided by NVIDIA, is compatible to enable GPU acceleration. This enhances performance significantly, particularly in training large neural networks.\\\n",
    "For windows installation with GPU support you can [check out this link](https://pytorch.org/get-started/locally/) which is the source for the command below and please know that support for GPU is done for windows so you can also check out [previous versions](https://pytorch.org/get-started/previous-versions/), you could use CPU on windows smoothly, use linux or resort to [WSL](https://www.youtube.com/watch?v=R4m8YEixidI).\n",
    "\n",
    "```bash\n",
    "pip3 install torch torchvision torchaudio --index-url https://download.pytorch.org/whl/cu118\n",
    "```\n",
    "```bash\n",
    "conda install pytorch torchvision torchaudio pytorch-cuda=11.8 -c pytorch -c nvidia\n",
    "```\n"
   ]
  },
  {
   "cell_type": "markdown",
   "metadata": {},
   "source": [
    "> **Note:** You are allowed to install any other necessary libraries you deem useful for solving the lab. Please ensure that any additional libraries are compatible with the project requirements and are properly documented in your submission.\n"
   ]
  },
  {
   "cell_type": "markdown",
   "metadata": {},
   "source": [
    "## Convolutional Neural Networks (CNN)\n",
    "\n",
    "Machine learning is a field of artificial intelligence that enables systems to learn from data and make decisions without being explicitly programmed. It involves algorithms that iteratively learn from data and improve their accuracy over time by optimizing an error metric, typically through the use of loss functions. These functions quantify the difference between the predicted outputs and the actual outputs, guiding the algorithm to minimize this error during training. By continually adjusting and improving, machine learning models can achieve remarkable accuracy in tasks ranging from simple classification to complex decision-making scenarios.\n",
    "\n",
    "Convolutional Neural Networks (CNNs) are a specialized kind of neural networks particularly effective for analyzing visual imagery. They employ a mathematical operation known as convolution, which uses sliding window techniques to process data. This method is highly efficient in recognizing patterns and features in images due to the sparse interactions and parameter sharing of convolutional layers. These characteristics allow CNNs to capture local patterns like edges and textures with a significantly reduced amount of parameters compared to fully connected networks, making them highly efficient for tasks involving high-dimensional data like images.\n",
    "\n",
    "### Key Components of CNN Architecture\n",
    "\n",
    "The architecture of a Convolutional Neural Network (CNN) typically includes several key components, each playing a crucial role in the network's ability to process and interpret visual information:\n",
    "\n",
    "- **Convolutional Layers**: \n",
    "  - Apply a number of filters to the input.\n",
    "  - Create feature maps that capture essential details within the data.\n",
    "\n",
    "- **Pooling Layers**: \n",
    "  - Often follow convolutional layers.\n",
    "  - Reduce the spatial size of the feature maps, decreasing the computational load.\n",
    "  - Extract dominant features that are invariant to small changes in the input.\n",
    "\n",
    "- **Fully Connected Layers**: \n",
    "  - Interpret the features extracted by convolutional and pooling layers.\n",
    "  - Perform classification or regression tasks based on the interpreted features.\n",
    "\n",
    "- **Softmax Layer**:\n",
    "  - Typically used in the final layer if the task is classification.\n",
    "  - Outputs the probabilities of the instance belonging to each class.\n",
    "\n",
    "- **Dropout Layers**:\n",
    "  - Included to prevent overfitting.\n",
    "  - Randomly drop units from the neural network during the training process to improve generalization.\n",
    "\n"
   ]
  },
  {
   "cell_type": "markdown",
   "metadata": {},
   "source": [
    "### Example of CNN Architecture: LeNet-5\n",
    "\n",
    "![Example: LeNet-5 Architecture](lenet5.png)"
   ]
  },
  {
   "cell_type": "markdown",
   "metadata": {},
   "source": [
    "### Overview of Neural Network Hyperparameters\n",
    "\n",
    "In training neural networks, various hyperparameters must be predefined to guide the training process. These include:\n",
    "\n",
    "- **Batch Size**\n",
    "  - **Definition**: Number of training examples used per iteration.\n",
    "  - **Common Values**: 32, 64, 128, 256.\n",
    "\n",
    "- **Learning Rate**\n",
    "  - **Definition**: Step size at each iteration to minimize the loss function.\n",
    "  - **Common Values**: Often starts small, e.g., 0.01, 0.001, and can be dynamically adjusted (lowered as we get nearer to minima, check scheduers).\n",
    "\n",
    "- **Optimizer Type**\n",
    "  - **Examples**: SGD (Stochastic Gradient Descent), Adam, RMSprop, Adagrad.\n",
    "  - **Role**: Different optimizers affect training dynamics and model performance differently.\n",
    "\n",
    "- **Beta Parameters for Adam Optimizer**\n",
    "  - **Beta1 and Beta2**: Control the decay rates of moving averages of past gradients and squared gradients.\n",
    "  - **Common Values**: Beta1 = 0.9, Beta2 = 0.999.\n",
    "\n",
    "- **Epochs**\n",
    "  - **Definition**: One full pass of the training dataset through the learning algorithm.\n",
    "  - **Usage**: More epochs can lead to better learning but risk overfitting.\n",
    "\n",
    "- **Momentum**\n",
    "  - **Definition**: Helps accelerate SGD and dampens oscillations.\n",
    "  - **Common Values**: 0.9, 0.99.\n",
    "\n",
    "- **Regularization Parameters (L1 & L2)**\n",
    "  - **Purpose**: Prevent overfitting by adding a penalty on the size of the coefficients.\n",
    "  - **Parameters**: Lambda or alpha values for L1 (Lasso) and L2 (Ridge) regularization.\n",
    "\n",
    "- **Dropout Rate**\n",
    "  - **Definition**: Fraction of neurons to randomly drop during training.\n",
    "  - **Common Values**: 0.2, 0.3, 0.5.\n",
    "\n",
    "- **Number of Layers and Number of Neurons in Each Layer**\n",
    "  - **Role**: Determines the architecture's depth and width, affecting its ability to capture complex patterns.\n",
    "\n",
    "- **Error Function Type for Classification with Softmax**\n",
    "  - **Definition**: Cross-entropy loss, also known as log loss.\n",
    "  - **Purpose**: Measures the performance of a classification model whose output is a probability value between 0 and 1. Cross-entropy loss increases as the predicted probability diverges from the actual label (an alternative can be Categorical Hinge Loss).\n",
    "\n",
    "- **Early Stopping**\n",
    "  - **Purpose**: Halt training when performance on a validation set starts to worsen to prevent overfitting.\n",
    "\n",
    "Each of these hyperparameters can significantly impact the effectiveness and efficiency of the neural network training process, and tuning them appropriately is crucial for achieving optimal performance.\n"
   ]
  },
  {
   "cell_type": "markdown",
   "metadata": {},
   "source": [
    "## Req- Image Classification for EuroSATallBands\n",
    "This is the same problem of the previous lab but we will explore the power of machine learning. Image classification in remote sensing is not as popular as pixel classification but we will get to that later. \n",
    "\n",
    "- **Load the Images**: Load the images of the EuroSAT dataset that belong to the **residential**, **river**, and **forest** classes.\n",
    "\n",
    "- **Split the Dataset**: Split the dataset such that 10% of each class is used as validation data and other 10% is used as testing data, and the remainder is used for training your classifier. Use the indices provided by `np.random.choice` with seed set to `27`. **Code is provided do not change it**.\n",
    "\n",
    "- **CNN Architecture**: Use or implement one of the popular suitable CNN architectures, even with pretrained weights if you like.\n",
    "\n",
    "- **Hyperparameters Tuning**: According to your validation accuaracy, you should make altercations to your architectures and hyperparameters, you can even change the architecture altogether, the loss function, optimizer or others.\n",
    " \n",
    "- **Report Accuracy and Average F1 Score**: After testing your classifier on the test set, report the **Accuracy** and **Average F1 Score** of your model.\n"
   ]
  },
  {
   "cell_type": "markdown",
   "metadata": {},
   "source": []
  },
  {
   "cell_type": "code",
   "execution_count": 1,
   "metadata": {},
   "outputs": [],
   "source": [
    "# Add your libraries here\n",
    "\n",
    "from skimage import io,transform\n",
    "\n",
    "import os\n",
    "import numpy as np\n",
    "from sklearn.metrics import confusion_matrix, accuracy_score, f1_score,ConfusionMatrixDisplay\n",
    "import matplotlib.pyplot as plt\n",
    "import torch\n",
    "import torch.nn as nn\n",
    "from torchvision import models\n",
    "from torch.utils.data import DataLoader\n",
    "from torch.utils.data import Dataset\n",
    "import torch.optim as optim\n",
    "from tqdm import tqdm\n",
    "from sklearn.preprocessing import LabelEncoder\n",
    "\n",
    "from sklearn.metrics import confusion_matrix\n"
   ]
  },
  {
   "cell_type": "code",
   "execution_count": 2,
   "metadata": {},
   "outputs": [
    {
     "name": "stdout",
     "output_type": "stream",
     "text": [
      "(3000, 64, 64, 13)\n"
     ]
    }
   ],
   "source": [
    "dataset_folder = \"D:/Astudy/fourth year/second term/satellite imagery/dataset/EuroSATallBands/EuroSATallBands/ds/images/remote_sensing/otherDatasets/sentinel_2/tif\" \n",
    "classes = [\"Residential\", \"River\", \"Forest\"]\n",
    "images_by_class = {}\n",
    "my_img = None\n",
    "residual_labels =[]\n",
    "river_labels = []\n",
    "forest_labels = []\n",
    "for class_name in classes:\n",
    "  \n",
    "    class_folder = os.path.join(dataset_folder, class_name)\n",
    "    if os.path.exists(class_folder):\n",
    "        \n",
    "        images_by_class[class_name] = []\n",
    "        for image_file in os.listdir(class_folder):\n",
    "            \n",
    "            image_path = os.path.join(class_folder, image_file)\n",
    "        \n",
    "            image = io.imread(image_path)\n",
    "        \n",
    "            # image = transform.resize(image, (32, 32, 13))\n",
    "            \n",
    "           \n",
    "           \n",
    "            \n",
    "            images_by_class[class_name].append(image)\n",
    "            if class_name == \"Residential\":\n",
    "                residual_labels.append(\"Residential\")\n",
    "            elif class_name == \"River\":\n",
    "                river_labels.append(\"River\")\n",
    "            elif   class_name == \"Forest\": \n",
    "                forest_labels.append(\"Forest\")\n",
    "                \n",
    "\n",
    "\n",
    "\n",
    "\n",
    "residential_images = np.array(images_by_class[\"Residential\"])\n",
    "\n",
    "river_images = np.array(images_by_class[\"River\"])\n",
    "\n",
    "forest_images = np.array(images_by_class[\"Forest\"])\n",
    "\n",
    "\n",
    "print(residential_images.shape)\n",
    "\n"
   ]
  },
  {
   "cell_type": "code",
   "execution_count": 3,
   "metadata": {},
   "outputs": [],
   "source": [
    "# DO NOT CHANGE THIS CELL\n",
    "## Training set indices.\n",
    "np.random.seed(27)  # Set random seed for reproducibility\n",
    "\n",
    "# Randomly select indices for the test sets for each class\n",
    "residential_indices = np.random.choice(np.arange(3000), size=600, replace=False)\n",
    "forest_indices = np.random.choice(np.arange(3000), size=600, replace=False)\n",
    "river_indices = np.random.choice(np.arange(2500), size=500, replace=False)\n",
    "\n",
    "residential_training_indices = np.setdiff1d(np.arange(3000), residential_indices)\n",
    "forest_training_indices = np.setdiff1d(np.arange(3000), forest_indices)\n",
    "river_training_indices = np.setdiff1d(np.arange(2500), river_indices)\n",
    "\n",
    "residential_val_indices = residential_indices[:300]\n",
    "forest_val_indices = forest_indices[:300]\n",
    "river_val_indices = river_indices[:250]\n",
    "\n",
    "residential_test_indices = residential_indices[300:]\n",
    "forest_test_indices = forest_indices[300:]\n",
    "river_test_indices = river_indices[250:]\n",
    "\n",
    "\n",
    "\n"
   ]
  },
  {
   "cell_type": "code",
   "execution_count": 4,
   "metadata": {},
   "outputs": [
    {
     "name": "stdout",
     "output_type": "stream",
     "text": [
      "(6800, 64, 64, 13)\n",
      "(6800,)\n",
      "(850, 64, 64, 13)\n",
      "(850,)\n",
      "(850, 64, 64, 13)\n",
      "(850,)\n"
     ]
    }
   ],
   "source": [
    "residual_labels = np.array(residual_labels)\n",
    "river_labels = np.array(river_labels)\n",
    "forest_labels = np.array(forest_labels)\n",
    "\n",
    "residual_images = np.array(residential_images)\n",
    "river_images = np.array(river_images)\n",
    "forest_images = np.array(forest_images)\n",
    "\n",
    "train_residual = residential_images[residential_training_indices]\n",
    "train_river = river_images[river_training_indices]\n",
    "train_forest =forest_images[forest_training_indices]\n",
    "\n",
    "test_residual = residential_images[residential_test_indices]\n",
    "test_river = river_images[river_test_indices]\n",
    "test_forest =  forest_images[forest_test_indices]\n",
    "\n",
    "\n",
    "val_residual = residential_images[residential_val_indices]\n",
    "val_river = river_images[river_val_indices]\n",
    "val_forest =  forest_images[forest_val_indices]\n",
    "\n",
    "\n",
    "test_residual_labels = residual_labels[residential_test_indices]\n",
    "test_river_labels = river_labels[river_test_indices]\n",
    "test_forest_labels =  forest_labels[forest_test_indices]\n",
    "\n",
    "train_residual_labels = residual_labels[residential_training_indices]\n",
    "train_river_labels = river_labels[river_training_indices]\n",
    "train_forest_labels =forest_labels[forest_training_indices]\n",
    "\n",
    "\n",
    "val_residual_labels = residual_labels[residential_val_indices]\n",
    "val_river_labels = river_labels[river_val_indices]\n",
    "val_forest_labels =  forest_labels[forest_val_indices]\n",
    "\n",
    "\n",
    "\n",
    "train_data = np.concatenate((train_residual,train_river,train_forest), axis=0)\n",
    "train_labels = np.array(np.concatenate((train_residual_labels,train_river_labels ,train_forest_labels), axis=0))\n",
    "\n",
    "test_data = np.concatenate((test_residual,test_river,test_forest), axis=0)\n",
    "test_labels =np.array(np.concatenate((test_residual_labels,test_river_labels ,test_forest_labels), axis=0))\n",
    "\n",
    "val_data = np.concatenate((val_residual,val_river,val_forest), axis=0)\n",
    "val_labels = np.array(np.concatenate((val_residual_labels,val_river_labels ,val_forest_labels), axis=0))\n",
    "\n",
    "\n",
    "label_encoder = LabelEncoder()\n",
    "\n",
    "# Fit label encoder and transform the labels\n",
    "train_labels = label_encoder.fit_transform(train_labels)\n",
    "test_labels = label_encoder.fit_transform(test_labels)\n",
    "val_labels = label_encoder.fit_transform(val_labels)\n",
    "\n",
    "\n",
    "# train_data=train_data.reshape(train_data.shape[0],-1)\n",
    "# test_data=test_data.reshape(test_data.shape[0],-1)\n",
    "# val_data=val_data.reshape(val_data.shape[0],-1)\n",
    "\n",
    "\n",
    "print(train_data.shape)\n",
    "print(train_labels.shape)\n",
    "\n",
    "print(test_data.shape)\n",
    "print(test_labels.shape)\n",
    "\n",
    "print(val_data.shape)\n",
    "print(val_labels.shape)\n",
    "\n",
    "\n"
   ]
  },
  {
   "cell_type": "code",
   "execution_count": 5,
   "metadata": {},
   "outputs": [],
   "source": [
    "# print(train_labels)\n",
    "# print(test_labels)\n",
    "# print(val_labels)"
   ]
  },
  {
   "cell_type": "code",
   "execution_count": 6,
   "metadata": {},
   "outputs": [
    {
     "name": "stdout",
     "output_type": "stream",
     "text": [
      "CUDA is available\n"
     ]
    }
   ],
   "source": [
    "if torch.cuda.is_available():\n",
    "    print(\"CUDA is available\")\n",
    "else:\n",
    "    print(\"CUDA is not available\")\n",
    "\n",
    "torch.cuda.empty_cache()\n",
    "device = torch.device(\"cuda\" if torch.cuda.is_available() else \"cpu\")"
   ]
  },
  {
   "cell_type": "code",
   "execution_count": 7,
   "metadata": {},
   "outputs": [],
   "source": [
    "class CustomDataset(Dataset):\n",
    "    def __init__(self, image, label):\n",
    "        self.image = image\n",
    "        self.label = label\n",
    "\n",
    "    def __getitem__(self, index):\n",
    "        image = self.image[index]\n",
    "        label = self.label[index]\n",
    "\n",
    "        image = np.transpose(image, (2, 0, 1))\n",
    "        \n",
    "        \n",
    "\n",
    "        return image,label\n",
    "\n",
    "    def __len__(self):\n",
    "        return len(self.label)"
   ]
  },
  {
   "cell_type": "code",
   "execution_count": 8,
   "metadata": {},
   "outputs": [],
   "source": [
    "# Create the training dataset and data generator\n",
    "train_dataset = CustomDataset(train_data,train_labels)\n",
    "train_dataloader = DataLoader(train_dataset, batch_size=64, shuffle=True)\n",
    "\n",
    "# Create the testing dataset and data generator\n",
    "test_dataset = CustomDataset(test_data,test_labels)\n",
    "test_dataloader = DataLoader(test_dataset, batch_size=64, shuffle=False)\n",
    "\n",
    "val_dataset = CustomDataset(val_data,test_labels)\n",
    "val_dataloader = DataLoader(val_dataset, batch_size=64, shuffle=False)\n"
   ]
  },
  {
   "cell_type": "code",
   "execution_count": 21,
   "metadata": {},
   "outputs": [],
   "source": [
    "class Net(nn.Module):\n",
    "    # def __init__(self):\n",
    "    #     \"\"\"\n",
    "    #     CNN Architecture: 2 convolutional layers, 1 max pool, 2 fully connected layer, \n",
    "    #     and final fully connected layer to classify 10 different classes\n",
    "    #     \"\"\"\n",
    "    #     super(Net, self).__init__()\n",
    "    #     self.conv1 = nn.Conv2d(13, 6, 5)\n",
    "    #     self.pool = nn.MaxPool2d(2, 2)\n",
    "    #     self.conv2 = nn.Conv2d(6, 16, 5)\n",
    "    #     self.conv3 = nn.Conv2d(16, 120, 7)\n",
    "    #     self.fc1 = nn.Linear(16 * 5 * 5, 120) ##\n",
    "    #     self.fc2 = nn.Linear(120, 84)\n",
    "    #     self.fc3 = nn.Linear(84, 3)\n",
    "\n",
    "    # def forward(self, x):\n",
    "    #     \"\"\"\n",
    "    #     Defines the forward pass of the network.\n",
    "    #     \"\"\"\n",
    "    #     x = self.pool(torch.relu(self.conv1(x)))\n",
    "    #     x = self.pool(torch.relu(self.conv2(x)))\n",
    "    #     x = self.pool(torch.relu(self.conv3(x)))\n",
    "    #     x = x.view(-1, 16 * 15 * 15)\n",
    "    #     x = torch.relu(self.fc1(x))\n",
    "    #     x = torch.relu(self.fc2(x))\n",
    "    #     x = self.fc3(x)\n",
    "    #     return x\n",
    "    def __init__(self, num_classes=3):\n",
    "        super(Net, self).__init__()\n",
    "        self.num_classes = num_classes\n",
    "        \n",
    "        self.conv1 = nn.Conv2d(in_channels=13, out_channels=32, kernel_size=3, padding=1)\n",
    "        self.pool = nn.MaxPool2d(kernel_size=2, stride=2)\n",
    "        self.conv2 = nn.Conv2d(in_channels=32, out_channels=64, kernel_size=3, padding=1)\n",
    "        self.conv3 = nn.Conv2d(in_channels=64, out_channels=128, kernel_size=3, padding=1)\n",
    "        self.conv4 = nn.Conv2d(in_channels=128, out_channels=128, kernel_size=3, padding=1)\n",
    "        self.conv5 = nn.Conv2d(in_channels=128, out_channels=64, kernel_size=3, padding=1)\n",
    "        self.conv6 = nn.Conv2d(in_channels=64, out_channels=32, kernel_size=3, padding=1)\n",
    "        self.global_pool = nn.AdaptiveAvgPool2d((1, 1))\n",
    "        self.dropout = nn.Dropout(p=0.3)\n",
    "        self.fc1 = nn.Linear(32, 64)\n",
    "        self.fc2 = nn.Linear(64, num_classes)\n",
    "    \n",
    "    def forward(self, x):\n",
    "        x = nn.ReLU()(self.conv1(x))\n",
    "        x = self.pool(x)\n",
    "        x = nn.ReLU()(self.conv2(x))\n",
    "        x = self.pool(x)\n",
    "        x = nn.ReLU()(self.conv3(x))\n",
    "        x = self.pool(x)\n",
    "        x = self.dropout(x)\n",
    "        x = nn.ReLU()(self.conv4(x))\n",
    "        x = self.pool(x)\n",
    "        x = self.dropout(x)\n",
    "        x = nn.ReLU()(self.conv5(x))\n",
    "        x = self.pool(x)\n",
    "        x = nn.ReLU()(self.conv6(x))\n",
    "        x = self.pool(x)\n",
    "        x = self.global_pool(x)\n",
    "        x = x.view(x.size(0), -1)\n",
    "        x = nn.ReLU()(self.fc1(x))\n",
    "        x = self.fc2(x)\n",
    "        return x\n"
   ]
  },
  {
   "cell_type": "code",
   "execution_count": 22,
   "metadata": {},
   "outputs": [
    {
     "name": "stderr",
     "output_type": "stream",
     "text": [
      "Epoch 1/10:   0%|          | 0/107 [00:00<?, ?it/s]"
     ]
    },
    {
     "name": "stderr",
     "output_type": "stream",
     "text": [
      "d:\\anaconda\\envs\\tfendlast\\lib\\site-packages\\torch\\autograd\\graph.py:744: UserWarning: Plan failed with a cudnnException: CUDNN_BACKEND_EXECUTION_PLAN_DESCRIPTOR: cudnnFinalize Descriptor Failed cudnn_status: CUDNN_STATUS_NOT_SUPPORTED (Triggered internally at ..\\aten\\src\\ATen\\native\\cudnn\\Conv_v8.cpp:919.)\n",
      "  return Variable._execution_engine.run_backward(  # Calls into the C++ engine to run the backward pass\n",
      "Epoch 1/10: 100%|██████████| 107/107 [00:12<00:00,  8.84it/s]\n",
      "Epoch 2/10: 100%|██████████| 107/107 [00:03<00:00, 33.27it/s]\n",
      "Epoch 3/10: 100%|██████████| 107/107 [00:03<00:00, 34.58it/s]\n",
      "Epoch 4/10: 100%|██████████| 107/107 [00:03<00:00, 33.15it/s]\n",
      "Epoch 5/10: 100%|██████████| 107/107 [00:03<00:00, 34.22it/s]\n",
      "Epoch 6/10: 100%|██████████| 107/107 [00:03<00:00, 34.81it/s]\n",
      "Epoch 7/10: 100%|██████████| 107/107 [00:03<00:00, 34.52it/s]\n",
      "Epoch 8/10: 100%|██████████| 107/107 [00:03<00:00, 33.76it/s]\n",
      "Epoch 9/10: 100%|██████████| 107/107 [00:03<00:00, 31.91it/s]\n",
      "Epoch 10/10: 100%|██████████| 107/107 [00:03<00:00, 32.71it/s]"
     ]
    },
    {
     "name": "stdout",
     "output_type": "stream",
     "text": [
      "Finished Training\n"
     ]
    },
    {
     "name": "stderr",
     "output_type": "stream",
     "text": [
      "\n"
     ]
    }
   ],
   "source": [
    "net = Net()\n",
    "net = net.to(device)\n",
    "criterion = nn.CrossEntropyLoss()\n",
    "optimizer = optim.SGD(net.parameters(), lr=0.001, momentum=0.9)\n",
    "NUM_EPOCHS = 10\n",
    "# Train the network\n",
    "for epoch in range(NUM_EPOCHS):\n",
    "    running_loss = 0.0\n",
    "    for image , labels in tqdm(train_dataloader, desc=f\"Epoch {epoch+1}/{NUM_EPOCHS}\"):\n",
    "      \n",
    "        image = image.float()\n",
    "        image = image.to(device)\n",
    "        labels = labels.to(device)\n",
    "        # print(image.shape)\n",
    "        # print(labels.shape)\n",
    "        \n",
    "\n",
    "        optimizer.zero_grad()\n",
    "\n",
    "        outputs = net(image)\n",
    "        loss = criterion(outputs, labels)\n",
    "        loss.backward()\n",
    "        optimizer.step()\n",
    "\n",
    "        running_loss += loss.item()\n",
    "        \n",
    "print('Finished Training')\n",
    "\n",
    "\n"
   ]
  },
  {
   "cell_type": "code",
   "execution_count": 23,
   "metadata": {},
   "outputs": [
    {
     "name": "stderr",
     "output_type": "stream",
     "text": [
      "Evaluation:   0%|          | 0/14 [00:00<?, ?it/s]"
     ]
    },
    {
     "name": "stderr",
     "output_type": "stream",
     "text": [
      "Evaluation: 100%|██████████| 14/14 [00:00<00:00, 15.51it/s]\n"
     ]
    },
    {
     "name": "stdout",
     "output_type": "stream",
     "text": [
      "Accuracy of the network on the test images: 99.18%\n"
     ]
    },
    {
     "data": {
      "image/png": "[encoded data removed]",
      "text/plain": [
       "<Figure size 640x480 with 2 Axes>"
      ]
     },
     "metadata": {},
     "output_type": "display_data"
    },
    {
     "name": "stdout",
     "output_type": "stream",
     "text": [
      "F1 score of the network on the test images: 99.18\n"
     ]
    }
   ],
   "source": [
    "# Test the network on the test data\n",
    "correct = 0\n",
    "total = 0\n",
    "all_predicted = []\n",
    "all_labels = []\n",
    "with torch.no_grad():\n",
    "    for image,labels in tqdm(val_dataloader, desc=\"Evaluation\"):\n",
    "        \n",
    "        image = image.float()\n",
    "        # labels = labels.float()\n",
    "        image = image.to(device)\n",
    "        labels = labels.to(device)\n",
    "        outputs = net(image)\n",
    "        _, predicted = torch.max(outputs.data, 1)\n",
    "        total += labels.size(0)\n",
    "        correct += (predicted == labels).sum().item()\n",
    "        # predicted = predicted.int().cpu().numpy()\n",
    "        # labels = labels.int().cpu().numpy()\n",
    "        all_predicted.extend(predicted.int().cpu().numpy())\n",
    "        all_labels.extend(labels.int().cpu().numpy())\n",
    "        \n",
    "# print('Accuracy of the network on the 10000 test images: %d %%' % (\n",
    "#     100 * correct / total))\n",
    "accuracy = accuracy_score(all_labels, all_predicted)\n",
    "print('Accuracy of the network on the test images: {:.2f}%'.format(100 * accuracy))\n",
    "\n",
    "# Calculate confusion matrix\n",
    "cm = confusion_matrix(all_labels, all_predicted)\n",
    "label = [\"0\",\"1\",\"2\"]\n",
    "cm_display = ConfusionMatrixDisplay(confusion_matrix = cm, display_labels = label)\n",
    "cm_display.plot()\n",
    "plt.show()\n",
    "# print('Confusion matrix:')\n",
    "# print(conf_matrix)\n",
    "\n",
    "# Calculate F1 score\n",
    "f1 = f1_score(all_labels, all_predicted, average='weighted')\n",
    "print('F1 score of the network on the test images: {:.2f}'.format(f1*100))\n"
   ]
  },
  {
   "cell_type": "code",
   "execution_count": 24,
   "metadata": {},
   "outputs": [
    {
     "name": "stderr",
     "output_type": "stream",
     "text": [
      "Evaluation: 100%|██████████| 14/14 [00:00<00:00, 24.24it/s]\n"
     ]
    },
    {
     "name": "stdout",
     "output_type": "stream",
     "text": [
      "Accuracy of the network on the test images: 99.06%\n"
     ]
    },
    {
     "data": {
      "image/png": "[encoded data removed]",
      "text/plain": [
       "<Figure size 640x480 with 2 Axes>"
      ]
     },
     "metadata": {},
     "output_type": "display_data"
    },
    {
     "name": "stdout",
     "output_type": "stream",
     "text": [
      "F1 score of the network on the test images: 99.06\n"
     ]
    }
   ],
   "source": [
    "# Test the network on the test data\n",
    "correct = 0\n",
    "total = 0\n",
    "all_predicted = []\n",
    "all_labels = []\n",
    "with torch.no_grad():\n",
    "    for image,labels in tqdm(test_dataloader, desc=\"Evaluation\"):\n",
    "        \n",
    "        image = image.float()\n",
    "        # labels = labels.float()\n",
    "        image = image.to(device)\n",
    "        labels = labels.to(device)\n",
    "        outputs = net(image)\n",
    "        _, predicted = torch.max(outputs.data, 1)\n",
    "        total += labels.size(0)\n",
    "        correct += (predicted == labels).sum().item()\n",
    "        # predicted = predicted.int().cpu().numpy()\n",
    "        # labels = labels.int().cpu().numpy()\n",
    "        all_predicted.extend(predicted.int().cpu().numpy())\n",
    "        all_labels.extend(labels.int().cpu().numpy())\n",
    "        \n",
    "# print('Accuracy of the network on the 10000 test images: %d %%' % (\n",
    "#     100 * correct / total))\n",
    "accuracy = accuracy_score(all_labels, all_predicted)\n",
    "print('Accuracy of the network on the test images: {:.2f}%'.format(100 * accuracy))\n",
    "\n",
    "# Calculate confusion matrix\n",
    "cm = confusion_matrix(all_labels, all_predicted)\n",
    "label = [\"0\",\"1\",\"2\"]\n",
    "cm_display = ConfusionMatrixDisplay(confusion_matrix = cm, display_labels = label)\n",
    "cm_display.plot()\n",
    "plt.show()\n",
    "# print('Confusion matrix:')\n",
    "# print(conf_matrix)\n",
    "\n",
    "# Calculate F1 score\n",
    "f1 = f1_score(all_labels, all_predicted, average='weighted')\n",
    "print('F1 score of the network on the test images: {:.2f}'.format(f1*100))\n"
   ]
  },
  {
   "cell_type": "code",
   "execution_count": null,
   "metadata": {},
   "outputs": [
    {
     "name": "stdout",
     "output_type": "stream",
     "text": [
      "[1, 1, 1, 1, 1, 1, 1, 1, 1, 1, 1, 1, 1, 1, 1, 1, 1, 1, 1, 1, 1, 1, 1, 1, 1, 1, 1, 1, 1, 1, 1, 1, 1, 1, 1, 1, 1, 1, 1, 1, 1, 1, 1, 1, 1, 1, 1, 1, 1, 1, 1, 1, 1, 1, 1, 1, 1, 1, 1, 1, 1, 1, 1, 1, 1, 1, 1, 1, 1, 1, 1, 1, 1, 1, 1, 1, 1, 1, 1, 1, 1, 1, 1, 1, 1, 1, 1, 1, 1, 1, 1, 1, 1, 1, 1, 1, 1, 1, 1, 1, 1, 1, 1, 1, 1, 1, 1, 1, 1, 1, 1, 1, 1, 1, 1, 1, 1, 1, 1, 1, 1, 1, 1, 1, 1, 1, 1, 1, 1, 1, 1, 1, 1, 1, 1, 1, 1, 1, 1, 1, 1, 1, 1, 1, 1, 1, 1, 1, 1, 1, 1, 1, 1, 1, 1, 1, 1, 1, 1, 1, 1, 1, 1, 1, 1, 1, 1, 1, 1, 1, 1, 1, 1, 1, 1, 1, 1, 1, 1, 1, 1, 1, 1, 1, 1, 1, 1, 1, 1, 1, 1, 1, 1, 1, 1, 1, 1, 1, 1, 1, 1, 1, 1, 1, 1, 1, 1, 1, 1, 1, 1, 1, 1, 1, 1, 1, 1, 1, 1, 1, 1, 1, 1, 1, 1, 1, 1, 1, 1, 1, 1, 1, 1, 1, 1, 1, 1, 1, 1, 1, 1, 1, 1, 1, 1, 1, 1, 1, 1, 1, 1, 1, 1, 1, 1, 1, 1, 1, 1, 1, 1, 1, 1, 1, 1, 1, 1, 1, 1, 1, 1, 1, 1, 1, 1, 1, 1, 1, 1, 1, 1, 1, 1, 1, 1, 1, 1, 1, 1, 1, 1, 1, 1, 1, 1, 1, 1, 1, 1, 1, 2, 2, 2, 2, 2, 2, 2, 2, 2, 2, 2, 2, 2, 2, 2, 2, 2, 2, 2, 2, 2, 2, 2, 2, 2, 2, 2, 2, 2, 2, 2, 2, 2, 2, 2, 2, 2, 2, 2, 2, 2, 2, 2, 2, 2, 2, 2, 2, 2, 2, 2, 2, 2, 2, 2, 2, 2, 2, 2, 2, 2, 2, 2, 2, 2, 2, 2, 2, 2, 2, 2, 2, 2, 2, 2, 2, 2, 2, 2, 2, 2, 2, 2, 2, 2, 2, 2, 2, 2, 2, 2, 2, 2, 2, 2, 2, 2, 2, 2, 2, 2, 2, 2, 2, 2, 2, 2, 2, 2, 2, 2, 2, 2, 2, 2, 2, 2, 2, 2, 2, 2, 2, 2, 2, 2, 2, 2, 2, 2, 2, 2, 2, 2, 2, 2, 2, 2, 2, 2, 2, 2, 2, 2, 2, 2, 2, 2, 2, 2, 2, 2, 2, 2, 2, 2, 2, 2, 2, 2, 2, 2, 2, 2, 2, 2, 2, 2, 2, 2, 2, 2, 2, 2, 2, 2, 2, 2, 2, 2, 2, 2, 2, 2, 2, 2, 2, 2, 2, 2, 2, 2, 2, 2, 2, 2, 2, 2, 2, 2, 2, 2, 2, 2, 2, 2, 2, 2, 2, 2, 2, 2, 2, 2, 2, 2, 2, 2, 2, 2, 2, 2, 2, 2, 2, 2, 2, 2, 2, 2, 2, 2, 2, 2, 2, 2, 2, 2, 2, 2, 2, 2, 2, 2, 2, 2, 2, 2, 2, 2, 2, 0, 0, 0, 0, 0, 0, 0, 0, 0, 0, 0, 0, 0, 0, 0, 0, 0, 0, 0, 0, 0, 0, 0, 0, 0, 0, 0, 0, 0, 0, 0, 0, 0, 0, 0, 0, 0, 0, 0, 0, 0, 0, 0, 0, 0, 0, 0, 0, 0, 0, 0, 0, 0, 0, 0, 0, 0, 0, 0, 0, 0, 0, 0, 0, 0, 0, 0, 0, 0, 0, 0, 0, 0, 0, 0, 0, 0, 0, 0, 0, 0, 0, 0, 0, 0, 0, 0, 0, 0, 0, 0, 0, 0, 0, 0, 0, 0, 0, 0, 0, 0, 0, 0, 0, 0, 0, 0, 0, 0, 0, 0, 0, 0, 0, 0, 0, 0, 0, 0, 0, 0, 0, 0, 0, 0, 0, 0, 0, 0, 0, 0, 0, 0, 0, 0, 0, 0, 0, 0, 0, 0, 0, 0, 0, 0, 0, 0, 0, 0, 0, 0, 0, 0, 0, 0, 0, 0, 0, 0, 0, 0, 0, 0, 0, 0, 0, 0, 0, 0, 0, 0, 0, 0, 0, 0, 0, 0, 0, 0, 0, 0, 0, 0, 0, 0, 0, 0, 0, 0, 0, 0, 0, 0, 0, 0, 0, 0, 0, 0, 0, 0, 0, 0, 0, 0, 0, 0, 0, 0, 0, 0, 0, 0, 0, 0, 0, 0, 0, 0, 0, 0, 0, 0, 0, 0, 0, 0, 0, 0, 0, 0, 0, 0, 0, 0, 0, 0, 0, 0, 0, 0, 0, 0, 0, 0, 0, 0, 0, 0, 0, 0, 0, 0, 0, 0, 0, 0, 0, 0, 0, 0, 0, 0, 0, 0, 0, 0, 0, 0, 0, 0, 0, 0, 0, 0, 0, 0, 0, 0, 0, 0, 0, 0, 0, 0, 0, 0, 0, 0, 0, 0, 0, 0, 0, 0, 0, 0, 0, 0, 0]\n",
      "[0, 0, 0, 0, 0, 0, 0, 0, 0, 0, 0, 0, 0, 0, 0, 0, 0, 0, 0, 0, 0, 0, 0, 0, 0, 0, 0, 0, 0, 0, 0, 0, 0, 0, 0, 0, 0, 0, 0, 0, 0, 0, 0, 0, 0, 0, 0, 0, 0, 0, 0, 0, 0, 0, 0, 0, 0, 0, 0, 0, 0, 0, 0, 0, 0, 0, 0, 0, 0, 0, 0, 0, 0, 0, 0, 0, 0, 0, 0, 0, 0, 0, 0, 0, 0, 0, 0, 0, 0, 0, 0, 0, 0, 0, 0, 0, 0, 0, 0, 0, 0, 0, 0, 0, 0, 0, 0, 0, 0, 0, 0, 0, 0, 0, 0, 0, 0, 0, 0, 0, 0, 0, 0, 0, 0, 0, 0, 0, 0, 0, 0, 0, 0, 0, 0, 0, 0, 0, 0, 0, 0, 0, 0, 0, 0, 0, 0, 0, 0, 0, 0, 0, 0, 0, 0, 0, 0, 0, 0, 0, 0, 0, 0, 0, 0, 0, 0, 0, 0, 0, 0, 0, 0, 0, 0, 0, 0, 0, 0, 0, 0, 0, 0, 0, 0, 0, 0, 0, 0, 0, 0, 0, 0, 0, 0, 0, 0, 0, 0, 0, 0, 0, 0, 0, 0, 0, 0, 0, 0, 0, 0, 0, 0, 0, 0, 0, 0, 0, 0, 0, 0, 0, 0, 0, 0, 0, 0, 0, 0, 0, 0, 0, 0, 0, 0, 0, 0, 0, 0, 0, 0, 0, 0, 0, 0, 0, 0, 0, 0, 0, 0, 0, 0, 0, 0, 0, 0, 0, 0, 0, 0, 0, 0, 0, 0, 0, 0, 0, 0, 0, 0, 0, 0, 0, 0, 0, 0, 0, 0, 0, 0, 0, 0, 0, 0, 0, 0, 0, 0, 0, 0, 0, 0, 0, 0, 0, 0, 0, 0, 0, 0, 0, 0, 0, 0, 0, 0, 0, 0, 0, 0, 0, 0, 0, 0, 0, 0, 0, 0, 0, 0, 0, 0, 0, 0, 0, 0, 0, 0, 0, 0, 0, 0, 0, 0, 0, 0, 0, 0, 0, 0, 0, 0, 0, 0, 0, 0, 0, 0, 0, 0, 0, 0, 0, 0, 0, 0, 0, 0, 0, 0, 0, 0, 0, 0, 0, 0, 0, 0, 0, 0, 0, 0, 0, 0, 0, 0, 0, 0, 0, 0, 0, 0, 0, 0, 0, 0, 0, 0, 0, 0, 0, 0, 0, 0, 0, 0, 0, 0, 0, 0, 0, 0, 0, 0, 0, 0, 0, 0, 0, 0, 0, 0, 0, 0, 0, 0, 0, 0, 0, 0, 0, 0, 0, 0, 0, 0, 0, 0, 0, 0, 0, 0, 0, 0, 0, 0, 0, 0, 0, 0, 0, 0, 0, 0, 0, 0, 0, 0, 0, 0, 0, 0, 0, 0, 0, 0, 0, 0, 0, 0, 0, 0, 0, 0, 0, 0, 0, 0, 0, 0, 0, 0, 0, 0, 0, 0, 0, 0, 0, 0, 0, 0, 0, 0, 0, 0, 0, 0, 0, 0, 0, 0, 0, 0, 0, 0, 0, 0, 0, 0, 0, 0, 0, 0, 0, 0, 0, 0, 0, 0, 0, 0, 0, 0, 0, 0, 0, 0, 0, 0, 0, 0, 0, 0, 0, 0, 0, 0, 0, 0, 0, 0, 0, 0, 0, 0, 0, 0, 0, 0, 0, 0, 0, 0, 0, 0, 0, 0, 0, 0, 0, 0, 0, 0, 0, 0, 0, 0, 0, 0, 0, 0, 0, 0, 0, 0, 0, 0, 0, 0, 0, 0, 0, 0, 0, 0, 0, 0, 0, 0, 0, 0, 0, 0, 0, 0, 0, 0, 0, 0, 0, 0, 0, 0, 0, 0, 0, 0, 0, 0, 0, 0, 0, 0, 0, 0, 0, 0, 0, 0, 0, 0, 0, 0, 0, 0, 0, 0, 0, 0, 0, 0, 0, 0, 0, 0, 0, 0, 0, 0, 0, 0, 0, 0, 0, 0, 0, 0, 0, 0, 0, 0, 0, 0, 0, 0, 0, 0, 0, 0, 0, 0, 0, 0, 0, 0, 0, 0, 0, 0, 0, 0, 0, 0, 0, 0, 0, 0, 0, 0, 0, 0, 0, 0, 0, 0, 0, 0, 0, 0, 0, 0, 0, 0, 0, 0, 0, 0, 0, 0, 0, 0, 0, 0, 0, 0, 0, 0, 0, 0, 0, 0, 0, 0, 0, 0, 0, 0, 0, 0, 0, 0, 0, 0, 0, 0, 0, 0, 0, 0, 0, 0, 0, 0, 0, 0, 0, 0, 0, 0, 0, 0, 0, 0, 0, 0, 0, 0, 0, 0, 0, 0, 0, 0, 0, 0, 0, 0, 0, 0, 0, 0, 0, 0, 0, 0, 0, 0, 0, 0, 0, 0, 0, 0, 0, 0, 0, 0, 0, 0, 0, 0, 0, 0, 0, 0, 0, 0, 0, 0, 0, 0, 0, 0, 0, 0, 0, 0, 0, 0, 0, 0, 0, 0, 0, 0, 0, 0, 0, 0, 0, 0, 0, 0, 0, 0, 0, 0, 0, 0, 0, 0, 0, 0, 0, 0, 0, 0, 0, 0, 0, 0, 0, 0, 0, 0, 0, 0, 0, 0, 0, 0, 0, 0, 0, 0, 0, 0, 0, 0, 0, 0, 0, 0, 0, 0, 0, 0, 0]\n"
     ]
    }
   ],
   "source": [
    "print(all_labels)\n",
    "print(all_predicted)"
   ]
  },
  {
   "cell_type": "code",
   "execution_count": null,
   "metadata": {},
   "outputs": [],
   "source": [
    "# Good Luck from Psy and wish me well \n",
    "# I wish you you well"
   ]
  },
  {
   "cell_type": "markdown",
   "metadata": {},
   "source": [
    "### Grading Rubric (Total: 10 Marks)\n",
    "\n",
    "The lab is graded based on the following criteria:\n",
    "\n",
    "1. **Data Loading and Preparation (2 Marks)**\n",
    "   - Correctly loads images for the residential, river, and forest classes. (1 Mark)\n",
    "   - Accurately splits the dataset into training, validation testing subsets and clearly shows this split. (1 Mark)\n",
    "\n",
    "2. **CNN Architecture (3 Marks)**\n",
    "   - Uses appropriate CNN Architecture to the problem with a full pipeline. (2 Marks)\n",
    "   - Justifies the selection of CNN architecture. (1 Mark)\n",
    "\n",
    "3. **Hyperparameters Tuning (2 Marks)**\n",
    "   - Report evaluation metrics on validation set. (1 Mark)\n",
    "   - Analyzes results and tunes hyperparameters. (1 Mark)\n",
    "\n",
    "4. **Model Evaluation and Understanding (3 Marks)**\n",
    "   - Shows **confusion matrix** and correctly calculates and clearly shows the calculations for Accuracy and Average F1 Score. (1 Mark)\n",
    "   - **Comparison amongst your peers.** Compares the model's performance against those of peers to identify strengths and areas for improvement. (2 Marks)\n",
    "\n",
    "Each section of the lab will be evaluated on completeness, and correctness in approach and analysis. Part of the rubric also includes the student's ability to explain and justify their choices and results.\n"
   ]
  }
 ],
 "metadata": {
  "kernelspec": {
   "display_name": "gdalnewlast",
   "language": "python",
   "name": "python3"
  },
  "language_info": {
   "codemirror_mode": {
    "name": "ipython",
    "version": 3
   },
   "file_extension": ".py",
   "mimetype": "text/x-python",
   "name": "python",
   "nbconvert_exporter": "python",
   "pygments_lexer": "ipython3",
   "version": "3.10.14"
  }
 },
 "nbformat": 4,
 "nbformat_minor": 2
}
