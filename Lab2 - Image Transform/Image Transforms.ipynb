{
  "cells": [
    {
      "cell_type": "markdown",
      "metadata": {},
      "source": [
        "## Student Information\n",
        "\n",
        "Please enter the names and IDs of the two students below:\n",
        "\n",
        "1. **Name**: [Enter Student 1 Name Here]  \n",
        "   **ID**: `9XXXXXX` \n",
        "\n",
        "2. **Name**: [Enter Student 2 Name Here]  \n",
        "   **ID**: `9XXXXXX` \n"
      ]
    },
    {
      "cell_type": "markdown",
      "metadata": {},
      "source": [
        "## Students Instructions\n",
        "\n",
        "This is your first graded lab assignment, as you put the work you have studied in the lectures in action, please take this opportunity to enhance your understanding of the concepts and hone your skills. As you work on your assignment, please keep the following instructions in mind:\n",
        "\n",
        "- Clearly state your personal information where indicated.\n",
        "- Be ready with your work before the time of the next discussion slot in the schedule.\n",
        "- Plagiarism will be met with penalties, refrain from copying any answers to make the most out of the assignment. If any signs of plagiarism are detected, actions will be taken.\n",
        "- It is acceptable to share the workload of the assignment bearing the discussion in mind.\n",
        "- Feel free to [reach out](mailto:cmpsy27@gmail.com) if there were any ambiguities."
      ]
    },
    {
      "cell_type": "markdown",
      "metadata": {},
      "source": [
        "\n",
        "\n",
        "\n",
        "## Installation Instructions\n",
        "\n",
        "In this lab assignment, we require additional Python libraries for scientific mathematics, particularly in the context of machine learning (ML) and satellite image analysis. To fulfill these requirements, we need to install Scikit-learn and Scikit-image. \n",
        "1. Install Scikit-learn  \n",
        "Scikit-learn (Sklearn) is a powerful Python library for ML tasks, offering various algorithms for classification, regression, clustering, and model evaluation. It is extensively used for analyzing satellite imagery, enabling tasks such as land cover classification and environmental parameter prediction. On the other hand, Scikit-image (Skimage) provides comprehensive tools for image processing and computer vision, facilitating tasks such as image preprocessing, feature extraction, and segmentation. These libraries are essential for extracting valuable insights from satellite images and conducting advanced analysis in scientific computing and research domains.\n",
        "```bash\n",
        "pip install scikit-learn scikit-image\n",
        "```\n"
      ]
    },
    {
      "cell_type": "code",
      "execution_count": 3,
      "metadata": {
        "colab": {
          "base_uri": "https://localhost:8080/"
        },
        "id": "d7iSz6Nwm_O0",
        "outputId": "ce8025db-0c7f-415f-8d3f-20201276a690"
      },
      "outputs": [
        {
          "name": "stdout",
          "output_type": "stream",
          "text": [
            "Mounted at /content/drive\n"
          ]
        }
      ],
      "source": [
        "##Import all needed libraries\n",
        "import numpy as np\n",
        "from sklearn import cluster\n",
        "import matplotlib.pyplot as plt\n",
        "from mpl_toolkits.mplot3d import Axes3D\n",
        "from sklearn.decomposition import PCA\n",
        "from sklearn.preprocessing import StandardScaler\n",
        "from skimage import io\n",
        "\n",
        "'''\n",
        "##The dataset is loaded to your GDrive so need to be mounted\n",
        "from google.colab import drive\n",
        "drive.mount('/content/drive')\n",
        "''';"
      ]
    },
    {
      "cell_type": "markdown",
      "metadata": {
        "id": "iwDUHUDknBsh"
      },
      "source": [
        "The PCA (Principal Component Analysis) algorithm, found within the `sklearn.decomposition` module, is widely utilized in machine learning for reducing the dimensionality of datasets. Its primary goal is to identify essential patterns or structures within the data.\n",
        "\n",
        "In the realm of image processing, PCA serves to decrease the dimensionality of images by extracting a smaller set of features that capture the majority of the original data's variation. This becomes particularly beneficial as images often contain numerous pixels, posing challenges in data analysis and visualization.\n",
        "\n",
        "Functioning by determining new coordinate systems that effectively encapsulate the data's variance, PCA identifies these coordinates as principal components. Each principal component sequentially captures varying degrees of data variance, enabling the reduction of data dimensionality while preserving significant information by retaining only the most informative principal components.\n"
      ]
    },
    {
      "cell_type": "markdown",
      "metadata": {},
      "source": [
        "## R1- Apply PCA to RGB image\n",
        "\n",
        "To implement PCA on an RGB image, the following steps are undertaken:\n",
        "\n",
        "- **Convert the image to a 2D array of pixel values**: Begin by converting the RGB image into a two-dimensional array of pixel values. Each row of the array represents a pixel, and each column represents a color channel (R, G, B).\n",
        "\n",
        "- **Scale the data to have zero mean and unit variance along each feature (channel) axis**: This step is crucial for ensuring that each color channel contributes equally to the PCA analysis. Scaling the data to have zero mean and unit variance along each feature axis helps in standardizing the range of values across different channels, preventing any single channel from dominating the analysis.\n",
        "\n",
        "- **Perform PCA with 3 components using scikit-learn**: Utilize the scikit-learn library to perform Principal Component Analysis with three components. The choice of three components is made to retain sufficient information while reducing the dimensionality of the data. This decision aims to strike a balance between capturing significant variance and avoiding overfitting.\n",
        "\n",
        "### Requirements\n",
        "\n",
        "- Plot the Eigen Vectors in 3D.\n",
        "- Remove the least significant principal component.\n",
        "- Plot the most significant eigen vectors in 2D.\n",
        "- State the percentage of variance covered and provide commentary on its significance.\n"
      ]
    },
    {
      "cell_type": "code",
      "execution_count": null,
      "metadata": {
        "id": "Nmrz1tkNnIZV"
      },
      "outputs": [],
      "source": [
        "# Requirement 1\n",
        "\n",
        "# TODO: Load the JPG image \"Forest_1.jpg\"\n",
        "\n",
        "# TODO: Convert the image to a 2D array of pixel values\n",
        "\n",
        "# TODO: Scale the data to have zero mean and unit variance along each feature axis.\n",
        "\n",
        "# TODO: Perform PCA with 3 components\n",
        "\n",
        "# TODO: Screen plot of the eigen vectors\n",
        "\n",
        "# TODO: Remove the lowest unimportant PC\n",
        "\n",
        "# TODO: Print the covariance matrix, eigenvalues, and eigen vectors and comment on the result.\n"
      ]
    },
    {
      "cell_type": "markdown",
      "metadata": {},
      "source": [
        "## R2- Apply PCA to satellite image\n",
        "\n",
        "To implement PCA on a satellite image, the same afromentioned steps are undertaken:\n",
        "\n",
        "### Requirements\n",
        "- Apply PCA without loss.\n",
        "- Show the covariance matrix.\n",
        "- Show the Eigen Values and Vectors.\n",
        "- Choose the three most significant axis.\n",
        "- Plot the most significant eigen vectors in 3D.\n",
        "- State the percentage of variance covered and provide commentary on its significance.\n",
        "- Q: What can be achieved now by the transformed image?\n"
      ]
    },
    {
      "cell_type": "code",
      "execution_count": null,
      "metadata": {
        "id": "t_59NgAinrND"
      },
      "outputs": [],
      "source": [
        "# Requirement 2\n",
        "\n",
        "# TODO: Load the TIF image \"Forest_27.tif\"\n",
        "\n",
        "# TODO: Convert the image to a 2D array of pixel values\n",
        "\n",
        "# TODO: Scale the data to have zero mean and unit variance along each feature axis.\n",
        "\n",
        "# TODO: Perform PCA \n",
        "\n",
        "# TODO: Keep the 3 most significant PCs \n",
        "\n",
        "# TODO: Plot the graph of the PCA vectors\n",
        "\n",
        "# TODO: Print the covariance matrix, eigenvalues, and eigen vectors and comment on the result.\n"
      ]
    },
    {
      "cell_type": "markdown",
      "metadata": {},
      "source": [
        "## Submission Instructions\n",
        "\n",
        "To ensure a smooth evaluation process, please follow these steps for submitting your work:\n",
        "\n",
        "1. **Prepare Your Submission:** Alongside your main notebook, include any additional files that are necessary for running the notebook successfully. This might include data files, images, or supplementary scripts.\n",
        "\n",
        "2. **Rename Your Files:** Before submission, please rename your notebook to reflect the IDs of the two students working on this project. The format should be `ID1_ID2`, where `ID1` and `ID2` are the student IDs. For example, if the student IDs are `9123456` and `9876543`, then your notebook should be named `9123456_9876543.ipynb`.\n",
        "\n",
        "3. **Check for Completeness:** Ensure that all required tasks are completed and that the notebook runs from start to finish without errors. This step is crucial for a smooth evaluation.\n",
        "\n",
        "4. **Submit Your Work:** Once everything is in order, submit your notebook and any additional files via the designated submission link on Google Classroom **(code: 2yj6e24)**. Make sure you meet the submission deadline to avoid any late penalties.\n",
        "5. Please, note that the same student should submit the assignments for the pair throughout the semester.\n",
        "\n",
        "By following these instructions carefully, you help us in evaluating your work efficiently and fairly **and any failure to adhere to these guidelines can affect your grades**. If you encounter any difficulties or have questions about the submission process, please reach out as soon as possible.\n",
        "\n",
        "We look forward to seeing your completed projects and wish you the best of luck!\n"
      ]
    }
  ],
  "metadata": {
    "colab": {
      "provenance": []
    },
    "kernelspec": {
      "display_name": "Python 3",
      "name": "python3"
    },
    "language_info": {
      "codemirror_mode": {
        "name": "ipython",
        "version": 3
      },
      "file_extension": ".py",
      "mimetype": "text/x-python",
      "name": "python",
      "nbconvert_exporter": "python",
      "pygments_lexer": "ipython3",
      "version": "3.8.18"
    }
  },
  "nbformat": 4,
  "nbformat_minor": 0
}
